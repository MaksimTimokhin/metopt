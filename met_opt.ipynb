{
 "cells": [
  {
   "cell_type": "code",
   "execution_count": 759,
   "metadata": {},
   "outputs": [],
   "source": [
    "import numpy as np\n",
    "import cvxopt as co\n",
    "from scipy import linalg as sla\n",
    "from scipy import optimize as opt\n",
    "co.solvers.options['show_progress'] = False"
   ]
  },
  {
   "cell_type": "markdown",
   "metadata": {},
   "source": [
    "**Начальные у словия задачи**"
   ]
  },
  {
   "cell_type": "code",
   "execution_count": 760,
   "metadata": {},
   "outputs": [],
   "source": [
    "#inflation coefficiation official data from rosstat\n",
    "beta = 0.75"
   ]
  },
  {
   "cell_type": "code",
   "execution_count": 761,
   "metadata": {},
   "outputs": [],
   "source": [
    "#starting capital\n",
    "k_0 = 1000000 #tenge"
   ]
  },
  {
   "cell_type": "code",
   "execution_count": 762,
   "metadata": {},
   "outputs": [],
   "source": [
    "#investment return function\n",
    "f = lambda x: 3*x+2"
   ]
  },
  {
   "cell_type": "code",
   "execution_count": 763,
   "metadata": {},
   "outputs": [],
   "source": [
    "#profit function\n",
    "u = lambda x: 5*x**2+4*x+7"
   ]
  },
  {
   "cell_type": "code",
   "execution_count": 764,
   "metadata": {},
   "outputs": [],
   "source": [
    "#function for minimization\n",
    "def U (x):\n",
    "    return np.dot(u(x), beta ** np.arange(x.shape[0]))"
   ]
  },
  {
   "cell_type": "code",
   "execution_count": 765,
   "metadata": {},
   "outputs": [],
   "source": [
    "#differencial of U\n",
    "def dU (x):\n",
    "    return np.asarray([10*x[0]+4, (10*x[1]+4)*beta, (10*x[2]+4)*beta**2])"
   ]
  },
  {
   "cell_type": "code",
   "execution_count": 766,
   "metadata": {},
   "outputs": [],
   "source": [
    "#sec differencial for Newton\n",
    "def ddU (x):\n",
    "    return np.asarray([[10, 0,  0],\n",
    "                      [0, 10*beta, 0],\n",
    "                      [0, 0, 10*beta**2]])"
   ]
  },
  {
   "cell_type": "markdown",
   "metadata": {},
   "source": [
    "# Обычные методы"
   ]
  },
  {
   "cell_type": "markdown",
   "metadata": {},
   "source": [
    "### 1) Градиентный спуск"
   ]
  },
  {
   "cell_type": "code",
   "execution_count": 767,
   "metadata": {},
   "outputs": [],
   "source": [
    "def grad_desc (acc, df, start, alpha):\n",
    "    curr_point = start\n",
    "    prev_point = np.asarray([0, 0, 0])\n",
    "    \n",
    "    operations = 0\n",
    "    \n",
    "    \n",
    "    while(sla.norm(curr_point - prev_point) > acc):\n",
    "        prev_point = curr_point\n",
    "        curr_point = curr_point - alpha*df(curr_point)\n",
    "        operations += 1\n",
    "    \n",
    "    print(\"Время работы:\", operations)\n",
    "    print(\"Точка минимума функции:\", curr_point)\n",
    "    return "
   ]
  },
  {
   "cell_type": "code",
   "execution_count": 768,
   "metadata": {},
   "outputs": [
    {
     "name": "stdout",
     "output_type": "stream",
     "text": [
      "Время работы: 266\n",
      "Точка минимума функции: [-0.39999999 -0.39999211 -0.39835917]\n"
     ]
    }
   ],
   "source": [
    "grad_desc(0.0001, dU, [8000, 8000, 8000], 0.01)"
   ]
  },
  {
   "cell_type": "markdown",
   "metadata": {},
   "source": [
    "(Но если мы угадаем с коэффициентом)"
   ]
  },
  {
   "cell_type": "code",
   "execution_count": 769,
   "metadata": {},
   "outputs": [
    {
     "name": "stdout",
     "output_type": "stream",
     "text": [
      "Время работы: 23\n",
      "Точка минимума функции: [-0.4        -0.4        -0.39995578]\n"
     ]
    }
   ],
   "source": [
    "grad_desc(0.0001, dU, [8000, 8000, 8000], 0.1)"
   ]
  },
  {
   "cell_type": "markdown",
   "metadata": {},
   "source": [
    "### 2) Адаптивный градиентный спуск"
   ]
  },
  {
   "cell_type": "code",
   "execution_count": 774,
   "metadata": {},
   "outputs": [],
   "source": [
    "def adapt_grad_desc (acc, f, df, start):\n",
    "    curr_point = start\n",
    "    prev_point = np.asarray([0, 0, 0])\n",
    "    operations = 0\n",
    "    \n",
    "    while(sla.norm(curr_point - prev_point) > acc):\n",
    "        prev_point = curr_point\n",
    "        alpha = ternary(lambda x: f(prev_point[0:3] - x*df(prev_point[0:3])))\n",
    "        curr_point = curr_point - alpha*df(curr_point)\n",
    "        operations += 1\n",
    "    \n",
    "    print(\"Время работы:\", operations)\n",
    "    print(\"Точка минимума функции:\", curr_point)\n",
    "    return "
   ]
  },
  {
   "cell_type": "code",
   "execution_count": 775,
   "metadata": {},
   "outputs": [
    {
     "name": "stdout",
     "output_type": "stream",
     "text": [
      "Время работы: 16\n",
      "Точка минимума функции: [-0.39999252 -0.4        -0.39998794]\n"
     ]
    }
   ],
   "source": [
    "adapt_grad_desc(0.0001, U, dU, [8000, 8000, 8000])"
   ]
  },
  {
   "cell_type": "markdown",
   "metadata": {},
   "source": [
    "### 3) Метод ньютона"
   ]
  },
  {
   "cell_type": "code",
   "execution_count": 780,
   "metadata": {},
   "outputs": [],
   "source": [
    "def newton(f, df, ddf, start_point, precision, max_iters):\n",
    "    curr_point = start_point\n",
    "    for i in range(max_iters):\n",
    "        prev_point = np.copy(curr_point)\n",
    "        curr_point = curr_point - sla.inv(ddf(curr_point)) @ df(curr_point)\n",
    "        if sla.norm(curr_point - prev_point) < precision:\n",
    "            break\n",
    "    print('Bремя работы:', i+1)\n",
    "    print(\"Точка минимума функции:\", curr_point)\n",
    "    return"
   ]
  },
  {
   "cell_type": "code",
   "execution_count": 781,
   "metadata": {},
   "outputs": [
    {
     "name": "stdout",
     "output_type": "stream",
     "text": [
      "Bремя работы: 2\n",
      "Точка минимума функции: [-0.4 -0.4 -0.4]\n"
     ]
    }
   ],
   "source": [
    "newton(U, dU, ddU, np.array([8000, 8000, 8000]), 0.0001, 10000000)"
   ]
  },
  {
   "cell_type": "markdown",
   "metadata": {},
   "source": [
    "# Методы внутренней точки"
   ]
  },
  {
   "cell_type": "code",
   "execution_count": 782,
   "metadata": {},
   "outputs": [],
   "source": [
    "#our matrix\n",
    "A = np.asarray([[1, 0, 0, 0, 0, 0],\n",
    "                [0, 1, 0, 0, 0, 0],\n",
    "                [0, 0, 1, 0, 0, 0],\n",
    "                [0, 0, 0, -1, 0, 0],\n",
    "                [0, 0, 0, 1, 0, 0],\n",
    "                [0, 0, 0, 0, 1, 0],\n",
    "                [0, 0, 0, 0, 0, 1],\n",
    "                [-1, 0, 0, 4, -1, 0],\n",
    "                [0, -1, 0, 0, 4, -1]])\n",
    "\n",
    "B = np.asarray([0, 0, 0, -1000001, 999999, 0, 0, -2, -2])"
   ]
  },
  {
   "cell_type": "code",
   "execution_count": 783,
   "metadata": {},
   "outputs": [],
   "source": [
    "#checking if point in set\n",
    "def check (A, B, point):\n",
    "    return np.all(A@point <= B)"
   ]
  },
  {
   "cell_type": "code",
   "execution_count": 784,
   "metadata": {},
   "outputs": [
    {
     "data": {
      "text/plain": [
       "False"
      ]
     },
     "execution_count": 784,
     "metadata": {},
     "output_type": "execute_result"
    }
   ],
   "source": [
    "start = np.asarray([8000, 8000, 8000, 1000, 0, 0])\n",
    "check(-A, -B, start)"
   ]
  },
  {
   "cell_type": "markdown",
   "metadata": {},
   "source": [
    "## Проекция на множество"
   ]
  },
  {
   "cell_type": "code",
   "execution_count": 791,
   "metadata": {},
   "outputs": [],
   "source": [
    "def proj(x, A, b):\n",
    "    P = 2 * co.matrix(np.identity(x.shape[0]))\n",
    "    q = -2 * co.matrix(x.astype('float'))\n",
    "    G = co.matrix(A.astype('float'))\n",
    "    h = co.matrix(b.astype('float'))\n",
    "    sol = co.solvers.qp(P, q, G, h)\n",
    "    return np.array(sol['x']).ravel()"
   ]
  },
  {
   "cell_type": "code",
   "execution_count": 792,
   "metadata": {},
   "outputs": [],
   "source": [
    "proj_start = proj(start, -A, -B)"
   ]
  },
  {
   "cell_type": "code",
   "execution_count": 793,
   "metadata": {},
   "outputs": [
    {
     "data": {
      "text/plain": [
       "True"
      ]
     },
     "execution_count": 793,
     "metadata": {},
     "output_type": "execute_result"
    }
   ],
   "source": [
    "check(-A, -B, proj_start)"
   ]
  },
  {
   "cell_type": "markdown",
   "metadata": {},
   "source": [
    "## Тернарник"
   ]
  },
  {
   "cell_type": "code",
   "execution_count": 794,
   "metadata": {},
   "outputs": [],
   "source": [
    "def ternary (f):\n",
    "    left = -1\n",
    "    right = 1\n",
    "    while f(left) < f(0) or f(right) < f(0):\n",
    "        left *= 2\n",
    "        right *= 2\n",
    "    while (right - left) > 0.00001:\n",
    "        if f((2 * left + right) / 3) > f((left + 2 * right) / 3):\n",
    "            left = (2 * left + right) / 3\n",
    "        else:\n",
    "            right = (left + 2 * right) / 3\n",
    "    return right"
   ]
  },
  {
   "cell_type": "markdown",
   "metadata": {},
   "source": [
    "Проверка работы:"
   ]
  },
  {
   "cell_type": "code",
   "execution_count": 795,
   "metadata": {},
   "outputs": [
    {
     "data": {
      "text/plain": [
       "3.000002778004109"
      ]
     },
     "execution_count": 795,
     "metadata": {},
     "output_type": "execute_result"
    }
   ],
   "source": [
    "ternary(lambda x: (x-3)**2)"
   ]
  },
  {
   "cell_type": "markdown",
   "metadata": {},
   "source": [
    "### 1)Адаптивный градиентный спуск на множестве"
   ]
  },
  {
   "cell_type": "code",
   "execution_count": 802,
   "metadata": {},
   "outputs": [],
   "source": [
    "def adapt_grad_desc (acc, f, df, start):\n",
    "    curr_point = np.copy(start)\n",
    "    prev_point = np.asarray([0, 0, 0, 0, 0, 0])\n",
    "    operations = 0\n",
    "    \n",
    "    while(sla.norm(curr_point - prev_point) > acc):\n",
    "        prev_point = np.copy(curr_point)\n",
    "        alpha = ternary(lambda x: f(prev_point[0:3] - x * df(prev_point[0:3])))\n",
    "        curr_point[0:3] = curr_point[0:3] - alpha*df(curr_point[0:3])\n",
    "        \n",
    "        if not check(-A, -B, curr_point):\n",
    "            curr_point = proj(curr_point, -A, -B)\n",
    "        \n",
    "        operations += 1\n",
    "    \n",
    "    print(\"Время работы:\", operations)\n",
    "    print(\"Точка минимума функции:\", curr_point)\n",
    "    return curr_point"
   ]
  },
  {
   "cell_type": "code",
   "execution_count": 833,
   "metadata": {},
   "outputs": [
    {
     "name": "stdout",
     "output_type": "stream",
     "text": [
      "Время работы: 4\n",
      "Точка минимума функции: [2.19471924e+02 2.79430937e+02 3.31996247e+02 1.00000000e+06\n",
      " 1.99270747e+03 6.82966461e+02]\n"
     ]
    },
    {
     "data": {
      "text/plain": [
       "True"
      ]
     },
     "execution_count": 833,
     "metadata": {},
     "output_type": "execute_result"
    }
   ],
   "source": [
    "grad = adapt_grad_desc(100, U, dU, proj_start)\n",
    "check(-A, -B, grad)"
   ]
  },
  {
   "cell_type": "markdown",
   "metadata": {},
   "source": [
    "### 2)Метод Ньютона"
   ]
  },
  {
   "cell_type": "code",
   "execution_count": 834,
   "metadata": {},
   "outputs": [],
   "source": [
    "def dUd (x):\n",
    "    return np.asarray([10*x[0]+4, (10*x[1]+4)*beta, (10*x[2]+4)*beta**2, 0, 0, 0])\n",
    "def ddUd (x):\n",
    "    return np.asarray([[10, 0,  0, 0, 0, 0],\n",
    "                      [0, 10*beta, 0, 0, 0, 0],\n",
    "                      [0, 0, 10*beta**2, 0, 0, 0],\n",
    "                      [0, 0, 0, 0, 0, 0],\n",
    "                      [0, 0, 0, 0, 0, 0],\n",
    "                      [0, 0, 0, 0, 0, 0]])"
   ]
  },
  {
   "cell_type": "code",
   "execution_count": 835,
   "metadata": {},
   "outputs": [],
   "source": [
    "def newton(f, df, ddf, start_point, precision, max_iters):\n",
    "    curr_point = np.copy(start_point)\n",
    "    for i in range(max_iters):\n",
    "        prev_point = np.copy(curr_point)\n",
    "        \n",
    "        P = co.matrix(ddf(curr_point))\n",
    "        q = co.matrix(df(curr_point))\n",
    "        G = co.matrix(-A.astype('float'))\n",
    "        h = co.matrix(-B.astype('float') + A @ curr_point)\n",
    "        sol = co.solvers.qp(P, q, G, h)\n",
    "        alpha = ternary(lambda x: f(curr_point[:3] - x * df(curr_point)[:3]))\n",
    "        curr_point[:3] += alpha * np.array(sol['x']).ravel()[:3]\n",
    "        if sla.norm(curr_point - prev_point) < precision:\n",
    "            break\n",
    "    print('Bремя работы:', i + 1)\n",
    "    print(\"Точка минимума функции:\", curr_point)\n",
    "    return curr_point"
   ]
  },
  {
   "cell_type": "code",
   "execution_count": 836,
   "metadata": {},
   "outputs": [
    {
     "name": "stdout",
     "output_type": "stream",
     "text": [
      "Bремя работы: 24\n",
      "Точка минимума функции: [4.04712139e+02 3.80654948e+02 4.04880058e+02 9.99999006e+05\n",
      " 1.95836288e+03 2.60390882e+02]\n"
     ]
    },
    {
     "data": {
      "text/plain": [
       "True"
      ]
     },
     "execution_count": 836,
     "metadata": {},
     "output_type": "execute_result"
    }
   ],
   "source": [
    "newt = newton(U, dUd, ddUd, proj_start, 100, 100000)\n",
    "check(-A, -B, newt)"
   ]
  },
  {
   "cell_type": "markdown",
   "metadata": {},
   "source": [
    "### 3)Метод Ньютона (с проекцией)"
   ]
  },
  {
   "cell_type": "code",
   "execution_count": 837,
   "metadata": {},
   "outputs": [],
   "source": [
    "def newtonv2(f, df, ddf, start_point, precision, max_iters):\n",
    "    curr_point = np.copy(start_point)\n",
    "    for i in range(max_iters):\n",
    "        prev_point = np.copy(curr_point)\n",
    "        curr_point[0:3] -= sla.inv(ddf(curr_point)[:3]) @ (df(curr_point)[:3])\n",
    "        if not check(-A, -B, curr_point):\n",
    "            curr_point = proj(curr_point, -A, -B)\n",
    "        if sla.norm(curr_point - prev_point) < precision:\n",
    "            break\n",
    "    print('Bремя работы:', i+1)\n",
    "    print(\"Точка минимума функции:\", curr_point)\n",
    "    return curr_point"
   ]
  },
  {
   "cell_type": "code",
   "execution_count": 838,
   "metadata": {},
   "outputs": [
    {
     "name": "stdout",
     "output_type": "stream",
     "text": [
      "Bремя работы: 3\n",
      "Точка минимума функции: [2.47815806e+02 2.72609926e+02 2.80374085e+02 1.00000000e+06\n",
      " 1.98384243e+03 6.17017682e+02]\n"
     ]
    },
    {
     "data": {
      "text/plain": [
       "True"
      ]
     },
     "execution_count": 838,
     "metadata": {},
     "output_type": "execute_result"
    }
   ],
   "source": [
    "newt2 = newtonv2(U, dU, ddU, proj_start, 100, 10000)\n",
    "check(-A, -B, newt)"
   ]
  },
  {
   "cell_type": "markdown",
   "metadata": {},
   "source": [
    "## Значения минимизируемой функции"
   ]
  },
  {
   "cell_type": "code",
   "execution_count": 839,
   "metadata": {},
   "outputs": [
    {
     "name": "stdout",
     "output_type": "stream",
     "text": [
      "Адаптивный градиентный спуск: 2109384381029.2334\n",
      "Метод Ньютона: 2109380472271.5933\n",
      "Метод Ньютона(проекция): 2109384184301.1697\n"
     ]
    }
   ],
   "source": [
    "print('Адаптивный градиентный спуск:', U(grad))\n",
    "print('Метод Ньютона:', U(newt))\n",
    "print('Метод Ньютона(проекция):', U(newt2))"
   ]
  },
  {
   "cell_type": "markdown",
   "metadata": {},
   "source": [
    "## Добавление штрафа в функцию"
   ]
  },
  {
   "cell_type": "code",
   "execution_count": 278,
   "metadata": {},
   "outputs": [
    {
     "data": {
      "text/plain": [
       "(array([[10.   ,  0.   ,  0.   ,  1.   ,  0.   ,  0.   ],\n",
       "        [ 0.   ,  7.5  ,  0.   ,  0.   ,  1.   ,  0.   ],\n",
       "        [ 0.   ,  0.   ,  5.625,  0.   ,  0.   ,  1.   ],\n",
       "        [ 1.   ,  0.   ,  0.   ,  0.   ,  0.   ,  0.   ],\n",
       "        [ 0.   ,  1.   ,  0.   ,  0.   ,  0.   ,  0.   ],\n",
       "        [ 0.   ,  0.   ,  1.   ,  0.   ,  0.   ,  0.   ]]),\n",
       " array([[-80004.96610229],\n",
       "        [-56462.23184539],\n",
       "        [-45002.79565186],\n",
       "        [     0.        ],\n",
       "        [     0.        ],\n",
       "        [     0.        ]]))"
      ]
     },
     "execution_count": 278,
     "metadata": {},
     "output_type": "execute_result"
    }
   ],
   "source": [
    "Lhs(proj_start), Rhs(proj_start)"
   ]
  },
  {
   "cell_type": "code",
   "execution_count": 279,
   "metadata": {},
   "outputs": [
    {
     "data": {
      "text/plain": [
       "array([[     0.        ],\n",
       "       [     0.        ],\n",
       "       [     0.        ],\n",
       "       [-80004.96610229],\n",
       "       [-56462.23184539],\n",
       "       [-45002.79565186]])"
      ]
     },
     "execution_count": 279,
     "metadata": {},
     "output_type": "execute_result"
    }
   ],
   "source": [
    "np.linalg.solve(Lhs(proj_start), Rhs(proj_start))"
   ]
  },
  {
   "cell_type": "code",
   "execution_count": 260,
   "metadata": {},
   "outputs": [
    {
     "data": {
      "text/plain": [
       "array([[10.   ,  0.   ,  0.   ,  0.   ,  0.   ,  0.   , -1.   ,  0.   ],\n",
       "       [ 0.   ,  7.5  ,  0.   ,  0.   ,  0.   ,  0.   ,  0.   , -1.   ],\n",
       "       [ 0.   ,  0.   ,  5.625,  0.   ,  0.   ,  0.   ,  0.   ,  0.   ],\n",
       "       [ 0.   ,  0.   ,  0.   ,  0.   ,  0.   ,  0.   ,  4.   ,  0.   ],\n",
       "       [ 0.   ,  0.   ,  0.   ,  0.   ,  0.   ,  0.   , -1.   ,  4.   ],\n",
       "       [ 0.   ,  0.   ,  0.   ,  0.   ,  0.   ,  0.   ,  0.   , -1.   ],\n",
       "       [-1.   ,  0.   ,  0.   ,  4.   , -1.   ,  0.   ,  0.   ,  0.   ],\n",
       "       [ 0.   , -1.   ,  0.   ,  0.   ,  4.   , -1.   ,  0.   ,  0.   ]])"
      ]
     },
     "execution_count": 260,
     "metadata": {},
     "output_type": "execute_result"
    }
   ],
   "source": [
    "Lhs(proj_start)"
   ]
  },
  {
   "cell_type": "code",
   "execution_count": 253,
   "metadata": {},
   "outputs": [
    {
     "name": "stdout",
     "output_type": "stream",
     "text": [
      "[[10.     0.     0.   ]\n",
      " [ 0.     7.5    0.   ]\n",
      " [ 0.     0.     5.625]]\n",
      "[[-1  0  0  4 -1  0]\n",
      " [ 0 -1  0  0  4 -1]]\n"
     ]
    }
   ],
   "source": [
    "print (ddU(proj_start), A[-2:, :],sep='\\n')"
   ]
  },
  {
   "cell_type": "code",
   "execution_count": 553,
   "metadata": {},
   "outputs": [
    {
     "data": {
      "text/plain": [
       "(3,)"
      ]
     },
     "execution_count": 553,
     "metadata": {},
     "output_type": "execute_result"
    }
   ],
   "source": [
    "proj_start[0:3].shape\n"
   ]
  },
  {
   "cell_type": "code",
   "execution_count": 243,
   "metadata": {},
   "outputs": [],
   "source": [
    "def ternary (f):\n",
    "    left = -1\n",
    "    right = 1\n",
    "    while(not (f(left) > f(0) and f(right) > f(0))):\n",
    "        left*=2\n",
    "        right*=2\n",
    "        while((right - left) > 0.00001):\n",
    "            var1 = f(left+(right-left)/3)\n",
    "            var2 = f(left+2*(right-left)/3)\n",
    "            if(var1 > var2):\n",
    "                left = left+(right-left)/3\n",
    "            else:\n",
    "                right = left+2*(right-left)/3\n",
    "        return right"
   ]
  },
  {
   "cell_type": "code",
   "execution_count": 244,
   "metadata": {},
   "outputs": [],
   "source": [
    "ternary(lambda x: U(proj_start[0:3] - x * dU(proj_start[0:3])))"
   ]
  },
  {
   "cell_type": "code",
   "execution_count": null,
   "metadata": {},
   "outputs": [],
   "source": []
  },
  {
   "cell_type": "code",
   "execution_count": 728,
   "metadata": {},
   "outputs": [
    {
     "name": "stdout",
     "output_type": "stream",
     "text": [
      "Bремя работы: 37\n",
      "Точка минимума функции: [2.46378338e+02 2.71196452e+02 2.78946377e+02 1.00000001e+06\n",
      " 2.20451941e+03 1.30617907e+03]\n"
     ]
    },
    {
     "data": {
      "text/plain": [
       "array([2.46378338e+02, 2.71196452e+02, 2.78946377e+02, 1.00000001e+06,\n",
       "       2.20451941e+03, 1.30617907e+03])"
      ]
     },
     "execution_count": 728,
     "metadata": {},
     "output_type": "execute_result"
    }
   ],
   "source": [
    "newtonv2(U, dU, ddU, proj_start, 10, 10000)"
   ]
  },
  {
   "cell_type": "code",
   "execution_count": 738,
   "metadata": {},
   "outputs": [
    {
     "data": {
      "text/plain": [
       "array([False, False, False, False, False, False])"
      ]
     },
     "execution_count": 738,
     "metadata": {},
     "output_type": "execute_result"
    }
   ],
   "source": [
    "proj_start == proj(proj_start, -A, -B)"
   ]
  },
  {
   "cell_type": "code",
   "execution_count": null,
   "metadata": {},
   "outputs": [],
   "source": []
  }
 ],
 "metadata": {
  "kernelspec": {
   "display_name": "Python 3",
   "language": "python",
   "name": "python3"
  },
  "language_info": {
   "codemirror_mode": {
    "name": "ipython",
    "version": 3
   },
   "file_extension": ".py",
   "mimetype": "text/x-python",
   "name": "python",
   "nbconvert_exporter": "python",
   "pygments_lexer": "ipython3",
   "version": "3.7.1"
  }
 },
 "nbformat": 4,
 "nbformat_minor": 2
}
