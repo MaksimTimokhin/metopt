{
 "cells": [
  {
   "cell_type": "code",
   "execution_count": 11,
   "metadata": {},
   "outputs": [],
   "source": [
    "import numpy as np\n",
    "import cvxopt as co\n",
    "from scipy import linalg as sla\n",
    "from scipy import optimize as opt\n",
    "co.solvers.options['show_progress'] = False"
   ]
  },
  {
   "cell_type": "markdown",
   "metadata": {},
   "source": [
    "**Начальные у словия задачи**"
   ]
  },
  {
   "cell_type": "code",
   "execution_count": 12,
   "metadata": {},
   "outputs": [],
   "source": [
    "#inflation coefficiation official data from rosstat\n",
    "beta = 0.75"
   ]
  },
  {
   "cell_type": "code",
   "execution_count": 13,
   "metadata": {},
   "outputs": [],
   "source": [
    "#starting capital\n",
    "k_0 = 1000000 #tenge"
   ]
  },
  {
   "cell_type": "code",
   "execution_count": 14,
   "metadata": {},
   "outputs": [],
   "source": [
    "#investment return function\n",
    "f = lambda x: 3*x+2"
   ]
  },
  {
   "cell_type": "code",
   "execution_count": 15,
   "metadata": {},
   "outputs": [],
   "source": [
    "#profit function\n",
    "u = lambda x: 5*x**2+4*x+7"
   ]
  },
  {
   "cell_type": "code",
   "execution_count": 16,
   "metadata": {},
   "outputs": [],
   "source": [
    "#function for minimization\n",
    "def U (x):\n",
    "    return np.dot(u(x), beta ** np.arange(x.shape[0]))"
   ]
  },
  {
   "cell_type": "code",
   "execution_count": 17,
   "metadata": {},
   "outputs": [],
   "source": [
    "#differencial of U\n",
    "def dU (x):\n",
    "    return np.asarray([10*x[0]+4, (10*x[1]+4)*beta, (10*x[2]+4)*beta**2])"
   ]
  },
  {
   "cell_type": "code",
   "execution_count": 18,
   "metadata": {},
   "outputs": [],
   "source": [
    "#sec differencial for Newton\n",
    "def ddU (x):\n",
    "    return np.asarray([[10, 0,  0],\n",
    "                      [0, 10*beta, 0],\n",
    "                      [0, 0, 10*beta**2]])"
   ]
  },
  {
   "cell_type": "markdown",
   "metadata": {},
   "source": [
    "# Обычные методы"
   ]
  },
  {
   "cell_type": "markdown",
   "metadata": {},
   "source": [
    "### 1) Градиентный спуск"
   ]
  },
  {
   "cell_type": "code",
   "execution_count": 968,
   "metadata": {},
   "outputs": [],
   "source": [
    "def grad_desc (acc, df, start, alpha):\n",
    "    curr_point = start\n",
    "    prev_point = np.asarray([0, 0, 0])\n",
    "    \n",
    "    operations = 0\n",
    "    \n",
    "    \n",
    "    while(sla.norm(curr_point - prev_point) > acc):\n",
    "        prev_point = curr_point\n",
    "        curr_point = curr_point - alpha*df(curr_point)\n",
    "        operations += 1\n",
    "    \n",
    "    print(\"Время работы:\", operations)\n",
    "    print(\"Точка минимума функции:\", curr_point)\n",
    "    return "
   ]
  },
  {
   "cell_type": "code",
   "execution_count": 969,
   "metadata": {},
   "outputs": [
    {
     "name": "stdout",
     "output_type": "stream",
     "text": [
      "Время работы: 266\n",
      "Точка минимума функции: [-0.39999999 -0.39999211 -0.39835917]\n"
     ]
    }
   ],
   "source": [
    "grad_desc(0.0001, dU, [8000, 8000, 8000], 0.01)"
   ]
  },
  {
   "cell_type": "markdown",
   "metadata": {},
   "source": [
    "(Но если мы угадаем с коэффициентом)"
   ]
  },
  {
   "cell_type": "code",
   "execution_count": 970,
   "metadata": {},
   "outputs": [
    {
     "name": "stdout",
     "output_type": "stream",
     "text": [
      "Время работы: 23\n",
      "Точка минимума функции: [-0.4        -0.4        -0.39995578]\n"
     ]
    }
   ],
   "source": [
    "grad_desc(0.0001, dU, [8000, 8000, 8000], 0.1)"
   ]
  },
  {
   "cell_type": "markdown",
   "metadata": {},
   "source": [
    "### 2) Адаптивный градиентный спуск"
   ]
  },
  {
   "cell_type": "code",
   "execution_count": 971,
   "metadata": {},
   "outputs": [],
   "source": [
    "def adapt_grad_desc (acc, f, df, start):\n",
    "    curr_point = start\n",
    "    prev_point = np.asarray([0, 0, 0])\n",
    "    operations = 0\n",
    "    \n",
    "    while(sla.norm(curr_point - prev_point) > acc):\n",
    "        prev_point = curr_point\n",
    "        alpha = ternary(lambda x: f(prev_point[0:3] - x*df(prev_point[0:3])))\n",
    "        curr_point = curr_point - alpha*df(curr_point)\n",
    "        operations += 1\n",
    "    \n",
    "    print(\"Время работы:\", operations)\n",
    "    print(\"Точка минимума функции:\", curr_point)\n",
    "    return "
   ]
  },
  {
   "cell_type": "code",
   "execution_count": 972,
   "metadata": {},
   "outputs": [
    {
     "name": "stdout",
     "output_type": "stream",
     "text": [
      "Время работы: 16\n",
      "Точка минимума функции: [-0.39999252 -0.4        -0.39998794]\n"
     ]
    }
   ],
   "source": [
    "adapt_grad_desc(0.0001, U, dU, [8000, 8000, 8000])"
   ]
  },
  {
   "cell_type": "markdown",
   "metadata": {},
   "source": [
    "### 3) Метод ньютона"
   ]
  },
  {
   "cell_type": "code",
   "execution_count": 973,
   "metadata": {},
   "outputs": [],
   "source": [
    "def newton(f, df, ddf, start_point, precision, max_iters):\n",
    "    curr_point = start_point\n",
    "    for i in range(max_iters):\n",
    "        prev_point = np.copy(curr_point)\n",
    "        curr_point = curr_point - sla.inv(ddf(curr_point)) @ df(curr_point)\n",
    "        if sla.norm(curr_point - prev_point) < precision:\n",
    "            break\n",
    "    print('Bремя работы:', i+1)\n",
    "    print(\"Точка минимума функции:\", curr_point)\n",
    "    return"
   ]
  },
  {
   "cell_type": "code",
   "execution_count": 974,
   "metadata": {},
   "outputs": [
    {
     "name": "stdout",
     "output_type": "stream",
     "text": [
      "Bремя работы: 2\n",
      "Точка минимума функции: [-0.4 -0.4 -0.4]\n"
     ]
    }
   ],
   "source": [
    "newton(U, dU, ddU, np.array([8000, 8000, 8000]), 0.0001, 10000000)"
   ]
  },
  {
   "cell_type": "markdown",
   "metadata": {},
   "source": [
    "### 4) Квазиньютоновский метод(BFGS)"
   ]
  },
  {
   "cell_type": "code",
   "execution_count": 975,
   "metadata": {},
   "outputs": [],
   "source": [
    "def quasinewton(f, df, start_point, precision, max_iters):\n",
    "    curr_point = np.copy(start_point)\n",
    "    n = start_point.shape[0]\n",
    "    H = np.identity(n)\n",
    "    for i in range(max_iters):\n",
    "        prev_point = np.copy(curr_point)\n",
    "        curr_point -= H @ df(curr_point)\n",
    "        s = curr_point - prev_point\n",
    "        y = df(curr_point) - df(prev_point)\n",
    "        l = y @ s\n",
    "        T1 = np.identity(n) - np.array([s]).T @ np.array([y]) / l\n",
    "        T2 = np.identity(n) - np.array([y]).T @ np.array([s]) / l\n",
    "        H = T1 @ H @ T2 + np.array([s]).T @ np.array([s]) / l\n",
    "        if sla.norm(curr_point - prev_point) < precision:\n",
    "            break\n",
    "    print('Bремя работы:', i + 1)\n",
    "    print(\"Точка минимума функции:\", curr_point)\n",
    "    return curr_point"
   ]
  },
  {
   "cell_type": "code",
   "execution_count": 976,
   "metadata": {},
   "outputs": [
    {
     "name": "stdout",
     "output_type": "stream",
     "text": [
      "Bремя работы: 9\n",
      "Точка минимума функции: [-0.40000001 -0.4        -0.4       ]\n"
     ]
    },
    {
     "data": {
      "text/plain": [
       "array([-0.40000001, -0.4       , -0.4       ])"
      ]
     },
     "execution_count": 976,
     "metadata": {},
     "output_type": "execute_result"
    }
   ],
   "source": [
    "quasinewton(U, dU, np.array([8000., 8000., 8000.]), 0.0001, 10000000)"
   ]
  },
  {
   "cell_type": "markdown",
   "metadata": {},
   "source": [
    "# Методы внутренней точки"
   ]
  },
  {
   "cell_type": "code",
   "execution_count": 19,
   "metadata": {},
   "outputs": [],
   "source": [
    "#our matrix\n",
    "A = np.asarray([[1, 0, 0, 0, 0, 0],\n",
    "                [0, 1, 0, 0, 0, 0],\n",
    "                [0, 0, 1, 0, 0, 0],\n",
    "                [0, 0, 0, -1, 0, 0],\n",
    "                [0, 0, 0, 1, 0, 0],\n",
    "                [0, 0, 0, 0, 1, 0],\n",
    "                [0, 0, 0, 0, 0, 1],\n",
    "                [-1, 0, 0, 4, -1, 0],\n",
    "                [0, -1, 0, 0, 4, -1]])\n",
    "\n",
    "B = np.asarray([0, 0, 0, -1000001, 999999, 0, 0, -2, -2])"
   ]
  },
  {
   "cell_type": "code",
   "execution_count": 20,
   "metadata": {},
   "outputs": [],
   "source": [
    "#checking if point in set\n",
    "def check (A, B, point):\n",
    "    return np.all(A@point <= B)"
   ]
  },
  {
   "cell_type": "code",
   "execution_count": 21,
   "metadata": {},
   "outputs": [
    {
     "data": {
      "text/plain": [
       "False"
      ]
     },
     "execution_count": 21,
     "metadata": {},
     "output_type": "execute_result"
    }
   ],
   "source": [
    "start = np.asarray([8000, 8000, 8000, 1000, 0, 0])\n",
    "check(-A, -B, start)"
   ]
  },
  {
   "cell_type": "markdown",
   "metadata": {},
   "source": [
    "## Проекция на множество"
   ]
  },
  {
   "cell_type": "code",
   "execution_count": 22,
   "metadata": {},
   "outputs": [],
   "source": [
    "def proj(x, A, b):\n",
    "    P = 2 * co.matrix(np.identity(x.shape[0]))\n",
    "    q = -2 * co.matrix(x.astype('float'))\n",
    "    G = co.matrix(A.astype('float'))\n",
    "    h = co.matrix(b.astype('float'))\n",
    "    sol = co.solvers.qp(P, q, G, h)\n",
    "    return np.array(sol['x']).ravel()"
   ]
  },
  {
   "cell_type": "code",
   "execution_count": 23,
   "metadata": {},
   "outputs": [],
   "source": [
    "proj_start = proj(start, -A, -B)"
   ]
  },
  {
   "cell_type": "code",
   "execution_count": 24,
   "metadata": {},
   "outputs": [
    {
     "data": {
      "text/plain": [
       "True"
      ]
     },
     "execution_count": 24,
     "metadata": {},
     "output_type": "execute_result"
    }
   ],
   "source": [
    "check(-A, -B, proj_start)"
   ]
  },
  {
   "cell_type": "markdown",
   "metadata": {},
   "source": [
    "## Тернарник"
   ]
  },
  {
   "cell_type": "code",
   "execution_count": 25,
   "metadata": {},
   "outputs": [],
   "source": [
    "def ternary (f):\n",
    "    left = -1\n",
    "    right = 1\n",
    "    while f(left) < f(0) or f(right) < f(0):\n",
    "        left *= 2\n",
    "        right *= 2\n",
    "    while (right - left) > 0.00001:\n",
    "        if f((2 * left + right) / 3) > f((left + 2 * right) / 3):\n",
    "            left = (2 * left + right) / 3\n",
    "        else:\n",
    "            right = (left + 2 * right) / 3\n",
    "    return right"
   ]
  },
  {
   "cell_type": "markdown",
   "metadata": {},
   "source": [
    "Проверка работы:"
   ]
  },
  {
   "cell_type": "code",
   "execution_count": 26,
   "metadata": {},
   "outputs": [
    {
     "data": {
      "text/plain": [
       "3.000002778004109"
      ]
     },
     "execution_count": 26,
     "metadata": {},
     "output_type": "execute_result"
    }
   ],
   "source": [
    "ternary(lambda x: (x-3)**2)"
   ]
  },
  {
   "cell_type": "markdown",
   "metadata": {},
   "source": [
    "### 1) Адаптивный градиентный спуск на множестве"
   ]
  },
  {
   "cell_type": "code",
   "execution_count": 27,
   "metadata": {},
   "outputs": [],
   "source": [
    "def adapt_grad_desc (acc, f, df, start):\n",
    "    curr_point = np.copy(start)\n",
    "    prev_point = np.asarray([0, 0, 0, 0, 0, 0])\n",
    "    operations = 0\n",
    "    \n",
    "    while(sla.norm(curr_point - prev_point) > acc):\n",
    "        prev_point = np.copy(curr_point)\n",
    "        alpha = ternary(lambda x: f(prev_point[0:3] - x * df(prev_point[0:3])))\n",
    "        curr_point[0:3] = curr_point[0:3] - alpha*df(curr_point[0:3])\n",
    "        \n",
    "        if not check(-A, -B, curr_point):\n",
    "            curr_point = proj(curr_point, -A, -B)\n",
    "        \n",
    "        operations += 1\n",
    "    \n",
    "    print(\"Время работы:\", operations)\n",
    "    print(\"Точка минимума функции:\", curr_point)\n",
    "    return curr_point"
   ]
  },
  {
   "cell_type": "code",
   "execution_count": 28,
   "metadata": {},
   "outputs": [
    {
     "name": "stdout",
     "output_type": "stream",
     "text": [
      "Время работы: 4\n",
      "Точка минимума функции: [2.19471924e+02 2.79430937e+02 3.31996247e+02 1.00000000e+06\n",
      " 1.99270747e+03 6.82966461e+02]\n"
     ]
    },
    {
     "data": {
      "text/plain": [
       "True"
      ]
     },
     "execution_count": 28,
     "metadata": {},
     "output_type": "execute_result"
    }
   ],
   "source": [
    "grad = adapt_grad_desc(100, U, dU, proj_start)\n",
    "check(-A, -B, grad)"
   ]
  },
  {
   "cell_type": "markdown",
   "metadata": {},
   "source": [
    "### 2) Метод Ньютона"
   ]
  },
  {
   "cell_type": "code",
   "execution_count": 29,
   "metadata": {},
   "outputs": [],
   "source": [
    "def dUd (x):\n",
    "    return np.asarray([10*x[0]+4, (10*x[1]+4)*beta, (10*x[2]+4)*beta**2, 0, 0, 0])\n",
    "def ddUd (x):\n",
    "    return np.asarray([[10, 0,  0, 0, 0, 0],\n",
    "                      [0, 10*beta, 0, 0, 0, 0],\n",
    "                      [0, 0, 10*beta**2, 0, 0, 0],\n",
    "                      [0, 0, 0, 0, 0, 0],\n",
    "                      [0, 0, 0, 0, 0, 0],\n",
    "                      [0, 0, 0, 0, 0, 0]])"
   ]
  },
  {
   "cell_type": "code",
   "execution_count": 30,
   "metadata": {},
   "outputs": [],
   "source": [
    "def newton(f, df, ddf, start_point, precision, max_iters):\n",
    "    curr_point = np.copy(start_point)\n",
    "    for i in range(max_iters):\n",
    "        prev_point = np.copy(curr_point)\n",
    "        \n",
    "        P = co.matrix(ddf(curr_point))\n",
    "        q = co.matrix(df(curr_point))\n",
    "        G = co.matrix(-A.astype('float'))\n",
    "        h = co.matrix(-B.astype('float') + A @ curr_point)\n",
    "        sol = co.solvers.qp(P, q, G, h)\n",
    "        alpha = ternary(lambda x: f(curr_point[:3] - x * df(curr_point)[:3]))\n",
    "        curr_point[:3] += alpha * np.array(sol['x']).ravel()[:3]\n",
    "        if sla.norm(curr_point - prev_point) < precision:\n",
    "            break\n",
    "    print('Bремя работы:', i + 1)\n",
    "    print(\"Точка минимума функции:\", curr_point)\n",
    "    return curr_point"
   ]
  },
  {
   "cell_type": "code",
   "execution_count": 31,
   "metadata": {},
   "outputs": [
    {
     "name": "stdout",
     "output_type": "stream",
     "text": [
      "Bремя работы: 24\n",
      "Точка минимума функции: [4.04712139e+02 3.80654948e+02 4.04880058e+02 9.99999006e+05\n",
      " 1.95836288e+03 2.60390882e+02]\n"
     ]
    },
    {
     "data": {
      "text/plain": [
       "True"
      ]
     },
     "execution_count": 31,
     "metadata": {},
     "output_type": "execute_result"
    }
   ],
   "source": [
    "newt = newton(U, dUd, ddUd, proj_start, 100, 100000)\n",
    "check(-A, -B, newt)"
   ]
  },
  {
   "cell_type": "markdown",
   "metadata": {},
   "source": [
    "### 3) Метод Ньютона (с проекцией)"
   ]
  },
  {
   "cell_type": "code",
   "execution_count": 32,
   "metadata": {},
   "outputs": [],
   "source": [
    "def newtonv2(f, df, ddf, start_point, precision, max_iters):\n",
    "    curr_point = np.copy(start_point)\n",
    "    for i in range(max_iters):\n",
    "        prev_point = np.copy(curr_point)\n",
    "        curr_point[0:3] -= sla.inv(ddf(curr_point)[:3]) @ (df(curr_point)[:3])\n",
    "        if not check(-A, -B, curr_point):\n",
    "            curr_point = proj(curr_point, -A, -B)\n",
    "        if sla.norm(curr_point - prev_point) < precision:\n",
    "            break\n",
    "    print('Bремя работы:', i+1)\n",
    "    print(\"Точка минимума функции:\", curr_point)\n",
    "    return curr_point"
   ]
  },
  {
   "cell_type": "code",
   "execution_count": 33,
   "metadata": {},
   "outputs": [
    {
     "name": "stdout",
     "output_type": "stream",
     "text": [
      "Bремя работы: 3\n",
      "Точка минимума функции: [2.47815806e+02 2.72609926e+02 2.80374085e+02 1.00000000e+06\n",
      " 1.98384243e+03 6.17017682e+02]\n"
     ]
    },
    {
     "data": {
      "text/plain": [
       "True"
      ]
     },
     "execution_count": 33,
     "metadata": {},
     "output_type": "execute_result"
    }
   ],
   "source": [
    "newt2 = newtonv2(U, dU, ddU, proj_start, 100, 10000)\n",
    "check(-A, -B, newt)"
   ]
  },
  {
   "cell_type": "markdown",
   "metadata": {},
   "source": [
    "### 4) Квазиньютоновский метод(BFGS)"
   ]
  },
  {
   "cell_type": "code",
   "execution_count": 34,
   "metadata": {},
   "outputs": [],
   "source": [
    "def quasinewton(f, df, start_point, precision, max_iters):\n",
    "    curr_point = np.copy(start_point)\n",
    "    n = start_point[:3].shape[0]\n",
    "    H = np.identity(n)\n",
    "    for i in range(max_iters):\n",
    "        prev_point = np.copy(curr_point)\n",
    "        alpha = ternary(lambda x: f(curr_point - x * df(curr_point)))\n",
    "        curr_point[:3] -= alpha * H @ df(curr_point)[:3]\n",
    "        if not check(-A, -B, curr_point):\n",
    "            curr_point = proj(curr_point, -A, -B)\n",
    "        s = curr_point[:3] - prev_point[:3]\n",
    "        y = df(curr_point)[:3] - df(prev_point)[:3]\n",
    "        l = y @ s\n",
    "        T1 = np.identity(n) - np.array([s]).T @ np.array([y]) / l\n",
    "        T2 = np.identity(n) - np.array([y]).T @ np.array([s]) / l\n",
    "        H = T1 @ H @ T2 + np.array([s]).T @ np.array([s]) / l\n",
    "        if sla.norm(df(curr_point)) < precision:\n",
    "            break\n",
    "    print('Bремя работы:', i + 1)\n",
    "    print(\"Точка минимума функции:\", curr_point)\n",
    "    return curr_point"
   ]
  },
  {
   "cell_type": "code",
   "execution_count": 35,
   "metadata": {},
   "outputs": [
    {
     "name": "stdout",
     "output_type": "stream",
     "text": [
      "Bремя работы: 44\n",
      "Точка минимума функции: [8.25088336e+00 3.40178613e+00 2.11710606e+00 1.00000004e+06\n",
      " 1.96807253e+03 4.19525807e+02]\n"
     ]
    },
    {
     "data": {
      "text/plain": [
       "True"
      ]
     },
     "execution_count": 35,
     "metadata": {},
     "output_type": "execute_result"
    }
   ],
   "source": [
    "qnewt = quasinewton(U, dUd, proj_start, 100, 10000)\n",
    "check(-A, -B, qnewt)"
   ]
  },
  {
   "cell_type": "markdown",
   "metadata": {},
   "source": [
    "## Значения минимизируемой функции"
   ]
  },
  {
   "cell_type": "code",
   "execution_count": 36,
   "metadata": {},
   "outputs": [
    {
     "name": "stdout",
     "output_type": "stream",
     "text": [
      "Адаптивный градиентный спуск: 2109384381029.2334\n",
      "Метод Ньютона: 2109380472271.5933\n",
      "Метод Ньютона(проекция): 2109384184301.1697\n",
      "Квазиньютон: 2109383206098.551\n"
     ]
    }
   ],
   "source": [
    "print('Адаптивный градиентный спуск:', U(grad))\n",
    "print('Метод Ньютона:', U(newt))\n",
    "print('Метод Ньютона(проекция):', U(newt2))\n",
    "print('Квазиньютон:', U(qnewt))"
   ]
  }
 ],
 "metadata": {
  "kernelspec": {
   "display_name": "Python 3",
   "language": "python",
   "name": "python3"
  },
  "language_info": {
   "codemirror_mode": {
    "name": "ipython",
    "version": 3
   },
   "file_extension": ".py",
   "mimetype": "text/x-python",
   "name": "python",
   "nbconvert_exporter": "python",
   "pygments_lexer": "ipython3",
   "version": "3.7.1"
  }
 },
 "nbformat": 4,
 "nbformat_minor": 2
}
