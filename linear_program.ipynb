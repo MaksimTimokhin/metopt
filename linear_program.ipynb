{
 "cells": [
  {
   "cell_type": "code",
   "execution_count": 1,
   "metadata": {
    "collapsed": true
   },
   "outputs": [],
   "source": [
    "from cvxopt import matrix, solvers"
   ]
  },
  {
   "cell_type": "code",
   "execution_count": 2,
   "metadata": {},
   "outputs": [
    {
     "name": "stdout",
     "output_type": "stream",
     "text": [
      "     pcost       dcost       gap    pres   dres   k/t\n",
      " 0: -2.2643e+01 -2.2643e+01  5e+00  2e-01  1e-16  1e+00\n",
      " 1: -2.2173e+01 -2.2198e+01  4e-01  2e-02  1e-16  6e-02\n",
      " 2: -2.2002e+01 -2.2002e+01  5e-03  2e-04  4e-15  9e-04\n",
      " 3: -2.2000e+01 -2.2000e+01  5e-05  2e-06  1e-15  9e-06\n",
      " 4: -2.2000e+01 -2.2000e+01  5e-07  2e-08  4e-16  9e-08\n",
      "Optimal solution found.\n",
      "[ 3.00e+00]\n",
      "[ 2.00e+00]\n",
      "\n"
     ]
    }
   ],
   "source": [
    "#cucumbers and onions\n",
    "A = matrix([[2.0, 1.0, 0.0], [1.0, 2.0, 1.0]])\n",
    "b = matrix([8.0, 7.0, 3.0])\n",
    "c = matrix([-4.0, -5.0])\n",
    "\n",
    "sol = solvers.lp(c, A, b)\n",
    "print(sol['x'])"
   ]
  },
  {
   "cell_type": "code",
   "execution_count": 3,
   "metadata": {},
   "outputs": [
    {
     "name": "stdout",
     "output_type": "stream",
     "text": [
      "     pcost       dcost       gap    pres   dres   k/t\n",
      " 0: -1.7537e+03 -4.6124e+03  1e+03  1e-01  1e+00  1e+00\n",
      " 1: -1.9002e+03 -3.3677e+03  6e+02  6e-02  7e-01  1e+01\n",
      " 2: -2.0503e+03 -3.6352e+03  9e+02  7e-02  8e-01  4e+01\n",
      " 3: -2.1014e+03 -2.1512e+03  2e+01  2e-03  3e-02  3e+00\n",
      " 4: -2.1000e+03 -2.1005e+03  2e-01  2e-05  3e-04  3e-02\n",
      " 5: -2.1000e+03 -2.1000e+03  2e-03  2e-07  3e-06  3e-04\n",
      " 6: -2.1000e+03 -2.1000e+03  2e-05  2e-09  3e-08  3e-06\n",
      "Optimal solution found.\n",
      "[-1.46e-07]\n",
      "[ 5.00e+01]\n",
      "[ 7.50e+01]\n",
      "\n"
     ]
    }
   ],
   "source": [
    "#german wines\n",
    "A = matrix([[1.0, 1.0, 2.0, 2.0, -1.0, 0.0, 0.0],[2.0, 0.0, 1.0, 3.0, 0.0, -1.0, 0.0], [0.0, 2.0, 0.0, 1.0, 0.0, 0.0, -1.0]])\n",
    "b = matrix([150.0, 150.0, 80.0, 225.0, 0.0, 0.0, 0.0])\n",
    "c = matrix([10.0, 12.0, 20.0])\n",
    "\n",
    "sol = solvers.lp(-c, A, b)\n",
    "print(sol['x'])"
   ]
  },
  {
   "cell_type": "code",
   "execution_count": 4,
   "metadata": {},
   "outputs": [
    {
     "name": "stdout",
     "output_type": "stream",
     "text": [
      "     pcost       dcost       gap    pres   dres   k/t\n",
      " 0: -2.8600e+01 -9.1133e+01  2e+01  0e+00  1e+00  1e+00\n",
      " 1: -3.4632e+01 -4.4478e+01  4e+00  2e-16  2e-01  4e-01\n",
      " 2: -3.5883e+01 -3.6355e+01  2e-01  1e-16  1e-02  2e-02\n",
      " 3: -3.5999e+01 -3.6004e+01  2e-03  1e-16  1e-04  2e-04\n",
      " 4: -3.6000e+01 -3.6000e+01  2e-05  2e-16  1e-06  2e-06\n",
      " 5: -3.6000e+01 -3.6000e+01  2e-07  8e-17  1e-08  2e-08\n",
      "Optimal solution found.\n",
      "[ 2.00e+00]\n",
      "[ 6.00e+00]\n",
      "\n"
     ]
    }
   ],
   "source": [
    "#perfumes\n",
    "A = matrix([[1.0, 0.0, 3.0, -1.0, 0.0], [0.0, 1, 2, 0.0, -1.0]])\n",
    "b = matrix([4.0, 6.0, 18.0, 0.0, 0.0])\n",
    "c = matrix([3.0, 5.0])\n",
    "\n",
    "sol = solvers.lp(-c, A, b)\n",
    "print(sol['x'])"
   ]
  },
  {
   "cell_type": "code",
   "execution_count": 11,
   "metadata": {},
   "outputs": [
    {
     "name": "stdout",
     "output_type": "stream",
     "text": [
      "     pcost       dcost       gap    pres   dres   k/t\n",
      " 0: -1.5877e+04 -5.7677e+04  7e+03  4e-02  3e+00  1e+00\n",
      " 1: -1.5614e+04 -2.0282e+04  5e+02  5e-03  3e-01  4e+01\n",
      " 2: -1.5627e+04 -1.6750e+04  1e+02  1e-03  8e-02  1e+01\n",
      " 3: -1.5732e+04 -1.7010e+04  2e+02  1e-03  9e-02  2e+01\n",
      " 4: -1.5745e+04 -1.5868e+04  2e+01  1e-04  8e-03  2e+00\n",
      " 5: -1.5750e+04 -1.5751e+04  3e-01  2e-06  1e-04  3e-02\n",
      " 6: -1.5750e+04 -1.5750e+04  3e-03  2e-08  1e-06  3e-04\n",
      " 7: -1.5750e+04 -1.5750e+04  3e-05  2e-10  1e-08  3e-06\n",
      "Optimal solution found.\n",
      "[ 2.50e+02]\n",
      "[ 6.81e-06]\n",
      "[ 8.75e+02]\n",
      "\n"
     ]
    }
   ],
   "source": [
    "#dairy products\n",
    "A = matrix([[5.0, 3.0, 2.0, 15.0, -1.0, 0.0, 0.0], [5.0, 0.0, 5.0, 30.0, 0.0, -1.0, 0.0], [2.0, 0.0, 4.0, 10.0, 0.0, 0.0, -1.0]])\n",
    "b = matrix([3000.0, 1000.0, 4000.0, 15000.0, 0.0, 0.0, 0.0])\n",
    "c = matrix([17.5, 22.5, 13.0])\n",
    "\n",
    "sol = solvers.lp(-c, A, b)\n",
    "print(sol['x'])"
   ]
  },
  {
   "cell_type": "code",
   "execution_count": 12,
   "metadata": {},
   "outputs": [
    {
     "name": "stdout",
     "output_type": "stream",
     "text": [
      "     pcost       dcost       gap    pres   dres   k/t\n",
      " 0: -4.8751e+03 -2.3625e+04  2e+04  5e-04  2e+00  1e+00\n",
      " 1: -8.7827e+03 -1.1850e+04  3e+03  9e-05  3e-01  1e+02\n",
      " 2: -1.0942e+04 -1.1098e+04  2e+02  5e-06  2e-02  1e+01\n",
      " 3: -1.0999e+04 -1.1001e+04  2e+00  5e-08  2e-04  1e-01\n",
      " 4: -1.1000e+04 -1.1000e+04  2e-02  5e-10  2e-06  1e-03\n",
      " 5: -1.1000e+04 -1.1000e+04  2e-04  5e-12  2e-08  1e-05\n",
      "Optimal solution found.\n",
      "[ 5.00e+03]\n",
      "[ 2.00e+03]\n",
      "[ 5.18e-06]\n",
      "[ 1.67e+01]\n",
      "\n"
     ]
    }
   ],
   "source": [
    "#apples\n",
    "A = matrix([[1.0, 0.0, 0.0, -1.0, 0.0, 0.0, 2.0, 0.0], [0.0, 1.0, 0.0, 0.0, -1.0, 0.0, 10/3, 0.0], [0.0, 0.0, 1.0, 0.0, 0.0, -1.0, 25/3, 0.0], [0.0, 0.0, 0.0, 0.0, 0.0, 0.0, -1000.0, -1.0]])\n",
    "b = matrix([5000.0, 2000.0, 500.0, 0.0, 0.0, 0.0, 0.0, 0.0])\n",
    "c = matrix([4.0, 8.0, 10.0, -1500.0])\n",
    "\n",
    "sol = solvers.lp(-c, A, b)\n",
    "print(sol['x'])"
   ]
  },
  {
   "cell_type": "code",
   "execution_count": 14,
   "metadata": {},
   "outputs": [
    {
     "name": "stdout",
     "output_type": "stream",
     "text": [
      "     pcost       dcost       gap    pres   dres   k/t\n",
      " 0: -2.7568e+04 -6.6467e+04  4e+04  0e+00  1e-16  1e+00\n",
      " 1: -3.3002e+04 -5.5453e+04  2e+04  1e-16  3e-16  4e+02\n",
      " 2: -3.3865e+04 -3.9571e+04  6e+03  1e-16  1e-14  3e+02\n",
      " 3: -3.7620e+04 -3.9688e+04  2e+03  7e-16  2e-15  2e+02\n",
      " 4: -3.7825e+04 -3.8093e+04  3e+02  6e-16  6e-16  5e+01\n",
      " 5: -3.7998e+04 -3.8001e+04  3e+00  4e-16  2e-15  5e-01\n",
      " 6: -3.8000e+04 -3.8000e+04  3e-02  2e-16  3e-16  5e-03\n",
      "Optimal solution found.\n",
      "[ 1.00e+03]\n",
      "[ 8.00e+03]\n",
      "\n"
     ]
    }
   ],
   "source": [
    "#production of wines with external data\n",
    "A = matrix([[0.3, 0.2, 0.5, -1.0, 0.0], [0.5, 0.1, 0.4, 0.0, -1.0]])\n",
    "b = matrix([5000.0, 1000.0, 4000.0, -1000.0, -1000.0])\n",
    "c = matrix([6.0, 4.0])\n",
    "\n",
    "sol = solvers.lp(-c, A, b)\n",
    "print(sol['x'])"
   ]
  },
  {
   "cell_type": "code",
   "execution_count": 15,
   "metadata": {},
   "outputs": [
    {
     "name": "stdout",
     "output_type": "stream",
     "text": [
      "     pcost       dcost       gap    pres   dres   k/t\n",
      " 0: -1.5215e+04 -1.9726e+05  2e+04  3e-02  6e+00  1e+00\n",
      " 1:  2.2132e+04 -1.7173e+07  2e+08  3e+00  5e+02  3e+04\n",
      " 2: -2.0107e+04 -6.7755e+05  2e+05  1e-01  2e+01  4e+04\n",
      " 3: -8.2065e+03 -2.8756e+05  1e+05  4e-02  9e+00  2e+04\n",
      " 4: -6.5495e+03 -4.3664e+04  1e+04  6e-03  1e+00  1e+03\n",
      " 5: -9.8921e+03 -4.9370e+04  2e+04  6e-03  1e+00  2e+03\n",
      " 6: -1.1058e+04 -2.2809e+04  4e+03  2e-03  4e-01  5e+02\n",
      " 7: -1.2689e+04 -2.1878e+04  4e+03  1e-03  3e-01  4e+02\n",
      " 8: -1.3210e+04 -1.5987e+04  1e+03  4e-04  9e-02  1e+02\n",
      " 9: -1.3810e+04 -1.5380e+04  1e+03  2e-04  5e-02  7e+01\n",
      "10: -1.3998e+04 -1.4015e+04  1e+01  3e-06  6e-04  7e-01\n",
      "11: -1.4000e+04 -1.4000e+04  1e-01  3e-08  6e-06  7e-03\n",
      "12: -1.4000e+04 -1.4000e+04  1e-03  3e-10  6e-08  7e-05\n",
      "Optimal solution found.\n",
      "[ 1.00e+02]\n",
      "[ 5.00e+01]\n",
      "[ 1.69e-06]\n",
      "[ 4.35e-06]\n",
      "[ 2.88e-06]\n",
      "\n"
     ]
    }
   ],
   "source": [
    "A = matrix([[15.0, 15.0, 0.0, 0.0, 1.0, 0.0, -1.0, 0.0, 0.0, 0.0, 0.0], [0.0, 5.0, 15.0, 0.0, 0.0, 1.0, 0.0, -1.0, 0.0, 0.0, 0.0], [0.0, 0.0, 0.0, 15.0, 0.0, 0.0, 0.0, 0.0, -1.0, 0.0, 0.0], [0.0, 0.0, 15.0, 0.0, 0.0, 0.0, 0.0, 0.0, 0.0, -1.0, 0.0], [5.0, 0.0, 0.0, 0.0, 0.0, 0.0, 0.0, 0.0, 0.0, 0.0, -1.0]])\n",
    "b = matrix([2400.0, 2400.0, 2400.0, 2400.0, 100.0, 50.0, 0.0, 0.0, 0.0, 0.0, 0.0])\n",
    "c = matrix([90.0, 100.0, -5.0, -20.0, -20.0])\n",
    "\n",
    "sol = solvers.lp(-c, A, b)\n",
    "print(sol['x'])"
   ]
  },
  {
   "cell_type": "code",
   "execution_count": null,
   "metadata": {
    "collapsed": true
   },
   "outputs": [],
   "source": []
  }
 ],
 "metadata": {
  "kernelspec": {
   "display_name": "Python 3",
   "language": "python",
   "name": "python3"
  },
  "language_info": {
   "codemirror_mode": {
    "name": "ipython",
    "version": 3
   },
   "file_extension": ".py",
   "mimetype": "text/x-python",
   "name": "python",
   "nbconvert_exporter": "python",
   "pygments_lexer": "ipython3",
   "version": "3.7.1"
  }
 },
 "nbformat": 4,
 "nbformat_minor": 2
}
